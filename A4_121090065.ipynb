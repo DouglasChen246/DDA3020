{
 "cells": [
  {
   "cell_type": "code",
   "execution_count": 1,
   "metadata": {},
   "outputs": [],
   "source": [
    "import numpy as np\n",
    "import pandas as pd\n",
    "import matplotlib.pyplot as plt\n",
    "from sklearn.metrics import pairwise_distances"
   ]
  },
  {
   "cell_type": "code",
   "execution_count": 2,
   "metadata": {},
   "outputs": [
    {
     "data": {
      "text/html": [
       "<div>\n",
       "<style scoped>\n",
       "    .dataframe tbody tr th:only-of-type {\n",
       "        vertical-align: middle;\n",
       "    }\n",
       "\n",
       "    .dataframe tbody tr th {\n",
       "        vertical-align: top;\n",
       "    }\n",
       "\n",
       "    .dataframe thead th {\n",
       "        text-align: right;\n",
       "    }\n",
       "</style>\n",
       "<table border=\"1\" class=\"dataframe\">\n",
       "  <thead>\n",
       "    <tr style=\"text-align: right;\">\n",
       "      <th></th>\n",
       "      <th>area</th>\n",
       "      <th>perimeter</th>\n",
       "      <th>compactness</th>\n",
       "      <th>length</th>\n",
       "      <th>width</th>\n",
       "      <th>asymmetry coefficient</th>\n",
       "      <th>length of kernel groove</th>\n",
       "      <th>label</th>\n",
       "    </tr>\n",
       "  </thead>\n",
       "  <tbody>\n",
       "    <tr>\n",
       "      <th>0</th>\n",
       "      <td>15.26</td>\n",
       "      <td>14.84</td>\n",
       "      <td>0.8710</td>\n",
       "      <td>5.763</td>\n",
       "      <td>3.312</td>\n",
       "      <td>2.221</td>\n",
       "      <td>5.220</td>\n",
       "      <td>1</td>\n",
       "    </tr>\n",
       "    <tr>\n",
       "      <th>1</th>\n",
       "      <td>14.88</td>\n",
       "      <td>14.57</td>\n",
       "      <td>0.8811</td>\n",
       "      <td>5.554</td>\n",
       "      <td>3.333</td>\n",
       "      <td>1.018</td>\n",
       "      <td>4.956</td>\n",
       "      <td>1</td>\n",
       "    </tr>\n",
       "    <tr>\n",
       "      <th>2</th>\n",
       "      <td>14.29</td>\n",
       "      <td>14.09</td>\n",
       "      <td>0.9050</td>\n",
       "      <td>5.291</td>\n",
       "      <td>3.337</td>\n",
       "      <td>2.699</td>\n",
       "      <td>4.825</td>\n",
       "      <td>1</td>\n",
       "    </tr>\n",
       "    <tr>\n",
       "      <th>3</th>\n",
       "      <td>13.84</td>\n",
       "      <td>13.94</td>\n",
       "      <td>0.8955</td>\n",
       "      <td>5.324</td>\n",
       "      <td>3.379</td>\n",
       "      <td>2.259</td>\n",
       "      <td>4.805</td>\n",
       "      <td>1</td>\n",
       "    </tr>\n",
       "    <tr>\n",
       "      <th>4</th>\n",
       "      <td>16.14</td>\n",
       "      <td>14.99</td>\n",
       "      <td>0.9034</td>\n",
       "      <td>5.658</td>\n",
       "      <td>3.562</td>\n",
       "      <td>1.355</td>\n",
       "      <td>5.175</td>\n",
       "      <td>1</td>\n",
       "    </tr>\n",
       "  </tbody>\n",
       "</table>\n",
       "</div>"
      ],
      "text/plain": [
       "    area  perimeter  compactness  length  width  asymmetry coefficient  \\\n",
       "0  15.26      14.84       0.8710   5.763  3.312                  2.221   \n",
       "1  14.88      14.57       0.8811   5.554  3.333                  1.018   \n",
       "2  14.29      14.09       0.9050   5.291  3.337                  2.699   \n",
       "3  13.84      13.94       0.8955   5.324  3.379                  2.259   \n",
       "4  16.14      14.99       0.9034   5.658  3.562                  1.355   \n",
       "\n",
       "   length of kernel groove  label  \n",
       "0                    5.220      1  \n",
       "1                    4.956      1  \n",
       "2                    4.825      1  \n",
       "3                    4.805      1  \n",
       "4                    5.175      1  "
      ]
     },
     "execution_count": 2,
     "metadata": {},
     "output_type": "execute_result"
    }
   ],
   "source": [
    "seed = open(\"seeds_dataset.txt\")\n",
    "df = pd.read_table(seed,header=None, names=[\"area\",\"perimeter\",\"compactness\",\"length\",\"width\",\"asymmetry coefficient\",\"length of kernel groove\",\"label\"])\n",
    "df.head()"
   ]
  },
  {
   "cell_type": "code",
   "execution_count": 3,
   "metadata": {},
   "outputs": [
    {
     "data": {
      "text/plain": [
       "Index(['area', 'perimeter', 'compactness', 'length', 'width',\n",
       "       'asymmetry coefficient', 'length of kernel groove'],\n",
       "      dtype='object')"
      ]
     },
     "execution_count": 3,
     "metadata": {},
     "output_type": "execute_result"
    }
   ],
   "source": [
    "features = df.columns[:-1]\n",
    "label=df[\"label\"]\n",
    "df = df[features]\n",
    "features"
   ]
  },
  {
   "attachments": {},
   "cell_type": "markdown",
   "metadata": {},
   "source": [
    "# PCA"
   ]
  },
  {
   "cell_type": "code",
   "execution_count": 4,
   "metadata": {},
   "outputs": [],
   "source": [
    "def pca(X):\n",
    "    X = X-np.mean(X,axis=0)\n",
    "\n",
    "    # compute the covariance matrix sigma\n",
    "    cov = np.cov(X.T)\n",
    "\n",
    "    # utilizing SVD decomposition, get the eigenvalues and corresponding eigenvectors\n",
    "    values, vectors = np.linalg.eig(cov)\n",
    "\n",
    "    # since K=2, the top 2 eigenvalues and corresponding eigenvectors are obtained by PCA\n",
    "    # first, sort all eigenvalues in descending order according to their values\n",
    "    index = np.argsort(values)[::-1]\n",
    "    values = values[index]\n",
    "    vectors = vectors[:,index]\n",
    "\n",
    "    principal_component = vectors[:,:2]\n",
    "    projected = X@principal_component\n",
    "    return projected "
   ]
  },
  {
   "attachments": {},
   "cell_type": "markdown",
   "metadata": {},
   "source": [
    "# K Means"
   ]
  },
  {
   "cell_type": "code",
   "execution_count": 5,
   "metadata": {},
   "outputs": [],
   "source": [
    "import random\n",
    "\n",
    "def k_means(X,clusters):\n",
    "    number = len(X)\n",
    "    numbers = random.sample(range(number),3)\n",
    "    centroids = [X[i] for i in numbers]\n",
    "    iterations = 0\n",
    "    while (iterations<=100): #set an optional stopping criterion\n",
    "        cluster = [[] for i in range(clusters)]\n",
    "        for x in X:\n",
    "            distance = [np.linalg.norm(x - c) for c in centroids]\n",
    "            fcluster = np.argmin(distance) # find the cluster that have the minimum distance to the points they assigned\n",
    "            cluster[fcluster].append(x) #assign the points to the new cluster\n",
    "        \n",
    "        new_centroids = []\n",
    "        for j in range(clusters):\n",
    "            temp = centroids[j]\n",
    "            if len(cluster[j]) > 0: #if we find a cluster needs to be update, we set the new centroid to be the mean of all points assigned to the cluster\n",
    "                temp = np.mean(cluster[j],axis=0)\n",
    "            new_centroids.append(temp)\n",
    "        iterations += 1\n",
    "        if np.allclose(centroids, new_centroids): # if the updated centroids are similar to the original one, then break\n",
    "            break\n",
    "    centroids = new_centroids\n",
    "    assignment = [np.argmin([np.linalg.norm(x-c) for c in centroids]) for x in X]\n",
    "    centroids = np.array(centroids)\n",
    "    return assignment, centroids"
   ]
  },
  {
   "cell_type": "code",
   "execution_count": 6,
   "metadata": {},
   "outputs": [],
   "source": [
    "df_pca = pca(df.values)"
   ]
  },
  {
   "cell_type": "code",
   "execution_count": 7,
   "metadata": {},
   "outputs": [
    {
     "data": {
      "image/png": "[encoded data removed]",
      "text/plain": [
       "<Figure size 640x480 with 1 Axes>"
      ]
     },
     "metadata": {},
     "output_type": "display_data"
    }
   ],
   "source": [
    "clusters, centroids = k_means(df_pca, 3)\n",
    "\n",
    "plt.scatter(df_pca[:,0],df_pca[:,1],c=clusters)\n",
    "plt.scatter(centroids[:,0],centroids[:,1],marker='x',linewidths=1,color='r')\n",
    "plt.show()"
   ]
  },
  {
   "attachments": {},
   "cell_type": "markdown",
   "metadata": {},
   "source": [
    "# Pred_Assignments & Real_Assignments"
   ]
  },
  {
   "cell_type": "code",
   "execution_count": 8,
   "metadata": {},
   "outputs": [],
   "source": [
    "real_assignments = label\n",
    "pred_assignments = []\n",
    "for _ in clusters:\n",
    "    pred_assignments.append(3-_)"
   ]
  },
  {
   "attachments": {},
   "cell_type": "markdown",
   "metadata": {},
   "source": [
    "# Sihouette coefficient"
   ]
  },
  {
   "cell_type": "code",
   "execution_count": 9,
   "metadata": {},
   "outputs": [],
   "source": [
    "def sihouette(X,label):\n",
    "    distances = pairwise_distances(X) # get the pairwise distances between each two datapoints\n",
    "    n_clusters = len(np.unique(label))\n",
    "    labels=[x+1 for x in range(n_clusters)]\n",
    "    sihouette = 0.0\n",
    "    #print(distances)\n",
    "    for i in range(len(X)):\n",
    "        # the average value of the distance of given data point and points within the same cluster\n",
    "        #print(type(label[i]))\n",
    "        incluster = np.mean(distances[i,label==label[i]])\n",
    "        #print(incluster)\n",
    "        # the average value of the distance between the given data point and pointsd from the nearest neighboring cluster\n",
    "        outcluster = np.min([np.mean(distances[i,label==labels[j]]) for j in range(n_clusters) if labels[j]!=label[i]])\n",
    "        #print(outcluster)\n",
    "        temp = abs(incluster-outcluster)\n",
    "        if (temp!=0):\n",
    "            temp = temp/max(incluster,outcluster)\n",
    "        sihouette += temp\n",
    "\n",
    "    sihouette/=len(X)\n",
    "    return sihouette"
   ]
  },
  {
   "cell_type": "code",
   "execution_count": 10,
   "metadata": {},
   "outputs": [
    {
     "data": {
      "text/plain": [
       "0.474492078843778"
      ]
     },
     "execution_count": 10,
     "metadata": {},
     "output_type": "execute_result"
    }
   ],
   "source": [
    "sihouette(df_pca,np.array(pred_assignments))"
   ]
  },
  {
   "cell_type": "code",
   "execution_count": 11,
   "metadata": {},
   "outputs": [],
   "source": [
    "def randind(ground,pred):\n",
    "    n = len(ground)\n",
    "    tp = 0\n",
    "    tn = 0\n",
    "    for i in range(n):\n",
    "        for j in range(i+1,n):\n",
    "            if ground[i]==ground[j] and pred[i]==pred[j]:\n",
    "                tp +=1\n",
    "            elif ground[i]!=ground[j] and pred[i]!=pred[j]:\n",
    "                tn+=1\n",
    "    randind = (tp+tn)/(n *(n-1)/2)\n",
    "    return randind"
   ]
  },
  {
   "cell_type": "code",
   "execution_count": 12,
   "metadata": {},
   "outputs": [
    {
     "data": {
      "text/plain": [
       "0.8713602187286398"
      ]
     },
     "execution_count": 12,
     "metadata": {},
     "output_type": "execute_result"
    }
   ],
   "source": [
    "randind(label,pred_assignments)"
   ]
  }
 ],
 "metadata": {
  "kernelspec": {
   "display_name": "base",
   "language": "python",
   "name": "python3"
  },
  "language_info": {
   "codemirror_mode": {
    "name": "ipython",
    "version": 3
   },
   "file_extension": ".py",
   "mimetype": "text/x-python",
   "name": "python",
   "nbconvert_exporter": "python",
   "pygments_lexer": "ipython3",
   "version": "3.9.16"
  },
  "orig_nbformat": 4
 },
 "nbformat": 4,
 "nbformat_minor": 2
}
